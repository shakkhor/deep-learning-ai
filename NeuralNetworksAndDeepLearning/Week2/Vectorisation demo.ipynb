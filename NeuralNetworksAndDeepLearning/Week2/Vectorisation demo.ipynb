{
 "cells": [
  {
   "cell_type": "code",
   "execution_count": 2,
   "id": "948da071",
   "metadata": {},
   "outputs": [
    {
     "name": "stdout",
     "output_type": "stream",
     "text": [
      "[1 2 3 4]\n"
     ]
    }
   ],
   "source": [
    "import numpy as np\n",
    "\n",
    "a = np.array([1, 2, 3, 4])\n",
    "print(a)"
   ]
  },
  {
   "cell_type": "code",
   "execution_count": 12,
   "id": "a3811aef",
   "metadata": {},
   "outputs": [
    {
     "name": "stdout",
     "output_type": "stream",
     "text": [
      "249441.87938454497\n",
      "time took to find the dot product when vectorized: 0.7951259613037109ms\n",
      "249441.87938453705\n",
      "time took to find the dot product when used for loop: 173.81668090820312ms\n"
     ]
    }
   ],
   "source": [
    "import time \n",
    "\n",
    "a = np.random.rand(1000_000)\n",
    "b = np.random.rand(1000_000)\n",
    "\n",
    "start = time.time()\n",
    "c = np.dot(a, b)\n",
    "end = time.time()\n",
    "\n",
    "print(c)\n",
    "print(\"time took to find the dot product when vectorized: \"+ str(1000*(end - start)) + \"ms\")\n",
    "\n",
    "c = 0\n",
    "start = time.time()\n",
    "\n",
    "for i in range (1000_000):\n",
    "    c += a[i] * b[i]\n",
    "\n",
    "end = time.time()\n",
    "print(c)\n",
    "print(\"time took to find the dot product when used for loop: \"+ str(1000*(end - start)) + \"ms\")"
   ]
  },
  {
   "cell_type": "code",
   "execution_count": 14,
   "id": "2cbe5065",
   "metadata": {},
   "outputs": [
    {
     "name": "stdout",
     "output_type": "stream",
     "text": [
      "[ 0.01250921  0.67897172 -0.0780774   1.44104241 -1.55391289]\n",
      "(5,)\n"
     ]
    }
   ],
   "source": [
    "x = np.random.randn(5)\n",
    "print(x)\n",
    "print(x.shape)"
   ]
  },
  {
   "cell_type": "code",
   "execution_count": 19,
   "id": "ab8e3097",
   "metadata": {},
   "outputs": [
    {
     "name": "stdout",
     "output_type": "stream",
     "text": [
      "[[-0.28590725]\n",
      " [-1.53587626]\n",
      " [ 0.47951574]\n",
      " [-0.17481607]\n",
      " [ 0.52298383]]\n",
      "(5, 1)\n",
      "[[-0.28590725 -1.53587626  0.47951574 -0.17481607  0.52298383]]\n",
      "x * x transpose\n",
      "[[ 0.08174295  0.43911815 -0.13709702  0.04998118 -0.14952487]\n",
      " [ 0.43911815  2.35891588 -0.73647683  0.26849586 -0.80323844]\n",
      " [-0.13709702 -0.73647683  0.22993534 -0.08382706  0.25077897]\n",
      " [ 0.04998118  0.26849586 -0.08382706  0.03056066 -0.09142598]\n",
      " [-0.14952487 -0.80323844  0.25077897 -0.09142598  0.27351208]]\n"
     ]
    }
   ],
   "source": [
    "x = np.random.randn(5,1)\n",
    "print(x)\n",
    "print(x.shape)\n",
    "print(x.T)\n",
    "print(\"x * x transpose\")\n",
    "print(np.dot(x,x.T))"
   ]
  },
  {
   "cell_type": "code",
   "execution_count": 20,
   "id": "767f8862",
   "metadata": {},
   "outputs": [],
   "source": [
    "x = np.random.randn(8,1)"
   ]
  },
  {
   "cell_type": "code",
   "execution_count": 22,
   "id": "5e5d06d6",
   "metadata": {},
   "outputs": [
    {
     "data": {
      "text/plain": [
       "array([[[-0.31976992,  0.34450433],\n",
       "        [ 0.63098836, -0.47128674]],\n",
       "\n",
       "       [[ 1.00593915,  0.56082272],\n",
       "        [ 1.89675348, -0.9130033 ]]])"
      ]
     },
     "execution_count": 22,
     "metadata": {},
     "output_type": "execute_result"
    }
   ],
   "source": [
    "x.reshape(2,2,2)"
   ]
  },
  {
   "cell_type": "code",
   "execution_count": 25,
   "id": "a8981bfd",
   "metadata": {},
   "outputs": [
    {
     "name": "stdout",
     "output_type": "stream",
     "text": [
      "(4, 3)\n"
     ]
    }
   ],
   "source": [
    "a = np.random.randn(4,3)\n",
    "b = np.random.randn(1,3)\n",
    "c = a * b\n",
    "print(c.shape)"
   ]
  },
  {
   "cell_type": "code",
   "execution_count": 26,
   "id": "d2104310",
   "metadata": {},
   "outputs": [
    {
     "name": "stdout",
     "output_type": "stream",
     "text": [
      "(12288, 45)\n"
     ]
    }
   ],
   "source": [
    "a = np.random.randn(12288, 150)\n",
    "b = np.random.randn(150,45)\n",
    "c = np.dot(a, b)\n",
    "print(c.shape)"
   ]
  },
  {
   "cell_type": "code",
   "execution_count": 33,
   "id": "211f9c72",
   "metadata": {},
   "outputs": [
    {
     "name": "stdout",
     "output_type": "stream",
     "text": [
      "[[2.09439576 1.88111631 0.69136129]\n",
      " [2.00320575 1.55252239 5.11966713]\n",
      " [1.47220093 0.17797001 4.328506  ]]\n"
     ]
    }
   ],
   "source": [
    "a = np.random.randn(3,3)\n",
    "b = np.random.randn(3,1)\n",
    "\n",
    "\n",
    "print(a**2 + b.T**2)\n"
   ]
  },
  {
   "cell_type": "code",
   "execution_count": null,
   "id": "17e68679",
   "metadata": {},
   "outputs": [],
   "source": []
  }
 ],
 "metadata": {
  "kernelspec": {
   "display_name": "Python 3 (ipykernel)",
   "language": "python",
   "name": "python3"
  },
  "language_info": {
   "codemirror_mode": {
    "name": "ipython",
    "version": 3
   },
   "file_extension": ".py",
   "mimetype": "text/x-python",
   "name": "python",
   "nbconvert_exporter": "python",
   "pygments_lexer": "ipython3",
   "version": "3.11.4"
  }
 },
 "nbformat": 4,
 "nbformat_minor": 5
}
