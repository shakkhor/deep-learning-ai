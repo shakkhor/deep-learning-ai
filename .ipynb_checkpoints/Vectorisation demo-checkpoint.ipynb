{
 "cells": [
  {
   "cell_type": "code",
   "execution_count": 1,
   "id": "d44170c1",
   "metadata": {},
   "outputs": [
    {
     "name": "stdout",
     "output_type": "stream",
     "text": [
      "[1 2 3 4]\n"
     ]
    }
   ],
   "source": [
    "import numpy as np\n",
    "\n",
    "a = np.array([1, 2, 3, 4])\n",
    "print(a)"
   ]
  },
  {
   "cell_type": "code",
   "execution_count": 10,
   "id": "55f5cf62",
   "metadata": {},
   "outputs": [
    {
     "name": "stdout",
     "output_type": "stream",
     "text": [
      "249894.07443314308\n",
      "time took to find the dot product when vectorized: 1.3167858123779297ms\n",
      "499788.14886627387\n",
      "time took to find the dot product when used for loop: 175.92597007751465ms\n"
     ]
    }
   ],
   "source": [
    "import time \n",
    "\n",
    "a = np.random.rand(1000_000)\n",
    "b = np.random.rand(1000_000)\n",
    "\n",
    "start = time.time()\n",
    "c = np.dot(a, b)\n",
    "end = time.time()\n",
    "\n",
    "print(c)\n",
    "print(\"time took to find the dot product when vectorized: \"+ str(1000*(end - start))+\"ms\")\n",
    "\n",
    "c = 0\n",
    "start = time.time()\n",
    "\n",
    "for i in range (1000_000):\n",
    "    c += a[i] * b[i]\n",
    "\n",
    "end = time.time()\n",
    "print(c)\n",
    "print(\"time took to find the dot product when used for loop: \"+ str(1000*(end - start))+\"ms\")"
   ]
  },
  {
   "cell_type": "code",
   "execution_count": null,
   "id": "8a16dc0f",
   "metadata": {},
   "outputs": [],
   "source": []
  }
 ],
 "metadata": {
  "kernelspec": {
   "display_name": "Python 3 (ipykernel)",
   "language": "python",
   "name": "python3"
  },
  "language_info": {
   "codemirror_mode": {
    "name": "ipython",
    "version": 3
   },
   "file_extension": ".py",
   "mimetype": "text/x-python",
   "name": "python",
   "nbconvert_exporter": "python",
   "pygments_lexer": "ipython3",
   "version": "3.11.4"
  }
 },
 "nbformat": 4,
 "nbformat_minor": 5
}
