{
 "cells": [
  {
   "cell_type": "code",
   "execution_count": 2,
   "id": "948da071",
   "metadata": {},
   "outputs": [
    {
     "name": "stdout",
     "output_type": "stream",
     "text": [
      "[1 2 3 4]\n"
     ]
    }
   ],
   "source": [
    "import numpy as np\n",
    "\n",
    "a = np.array([1, 2, 3, 4])\n",
    "print(a)"
   ]
  },
  {
   "cell_type": "code",
   "execution_count": 9,
   "id": "a3811aef",
   "metadata": {},
   "outputs": [
    {
     "name": "stdout",
     "output_type": "stream",
     "text": [
      "250017.46722205292\n",
      "time took to find the dot product when vectorized: 0.9720325469970703ms\n",
      "250017.46722206016\n",
      "time took to find the dot product when used for loop: 174.39699172973633ms\n"
     ]
    }
   ],
   "source": [
    "import time \n",
    "\n",
    "a = np.random.rand(1000_000)\n",
    "b = np.random.rand(1000_000)\n",
    "\n",
    "start = time.time()\n",
    "c = np.dot(a, b)\n",
    "end = time.time()\n",
    "\n",
    "print(c)\n",
    "print(\"time took to find the dot product when vectorized: \"+ str(1000*(end - start))+\"ms\")\n",
    "\n",
    "c = 0\n",
    "start = time.time()\n",
    "\n",
    "for i in range (1000_000):\n",
    "    c += a[i] * b[i]\n",
    "\n",
    "end = time.time()\n",
    "print(c)\n",
    "print(\"time took to find the dot product when used for loop: \"+ str(1000*(end - start))+\"ms\")"
   ]
  },
  {
   "cell_type": "code",
   "execution_count": null,
   "id": "2cbe5065",
   "metadata": {},
   "outputs": [],
   "source": []
  }
 ],
 "metadata": {
  "kernelspec": {
   "display_name": "Python 3 (ipykernel)",
   "language": "python",
   "name": "python3"
  },
  "language_info": {
   "codemirror_mode": {
    "name": "ipython",
    "version": 3
   },
   "file_extension": ".py",
   "mimetype": "text/x-python",
   "name": "python",
   "nbconvert_exporter": "python",
   "pygments_lexer": "ipython3",
   "version": "3.11.4"
  }
 },
 "nbformat": 4,
 "nbformat_minor": 5
}
